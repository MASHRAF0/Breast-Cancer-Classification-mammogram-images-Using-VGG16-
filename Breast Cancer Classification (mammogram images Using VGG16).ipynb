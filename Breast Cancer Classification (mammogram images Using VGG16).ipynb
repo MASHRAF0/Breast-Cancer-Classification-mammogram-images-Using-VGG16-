{
 "cells": [
  {
   "cell_type": "markdown",
   "id": "17ab5b5f",
   "metadata": {},
   "source": [
    "### Introduction :\n",
    "\n",
    "We'll work with the VGG16 architecture, using weights that have been trained in ImageNet. We'll walk through three different ways to use its architecture and fine-tune it to be used for classification of dense vs. fatty breast tissue on mammogram images (Betweem Dense, and fatty ).\n",
    "\n",
    "The three scenarios for you to try are the following:\n",
    "\n",
    "* Freeze all layers except for the final convolutional layer of VGG16.\n",
    "* Freeze all layers except the final convolutional layer of VGG16, and add several dense (fully connected) layers.\n",
    "* Freeze all layers except the final convolutional layer of VGG16, and add several dense (fully connected) layers with dropout."
   ]
  },
  {
   "cell_type": "code",
   "execution_count": 1,
   "id": "c1b1276a",
   "metadata": {},
   "outputs": [],
   "source": [
    "import numpy as np\n",
    "import pandas as pd\n",
    "import os\n",
    "import glob as gb\n",
    "from skimage import io\n",
    "import matplotlib.pyplot as plt\n",
    "%matplotlib inline\n",
    "\n",
    "import tensorflow as tf\n",
    "from tensorflow import keras\n",
    "from keras.preprocessing.image import ImageDataGenerator\n",
    "from keras.models import Sequential, Model\n",
    "from keras.layers import Conv2D, MaxPooling2D, GlobalAveragePooling2D, Dense, Dropout, Flatten\n",
    "from keras.applications.vgg16 import VGG16\n",
    "from keras.applications.resnet import ResNet50\n",
    "from tensorflow.keras.optimizers import Adam"
   ]
  },
  {
   "cell_type": "markdown",
   "id": "9d5a268d",
   "metadata": {},
   "source": [
    "## Data Preprocessing for the model"
   ]
  },
  {
   "cell_type": "code",
   "execution_count": 2,
   "id": "460499a6",
   "metadata": {},
   "outputs": [],
   "source": [
    "train_df = pd.read_csv('train.csv')\n",
    "valid_df = pd.read_csv('test.csv')"
   ]
  },
  {
   "cell_type": "code",
   "execution_count": 3,
   "id": "a51d869e",
   "metadata": {},
   "outputs": [
    {
     "data": {
      "text/html": [
       "<div>\n",
       "<style scoped>\n",
       "    .dataframe tbody tr th:only-of-type {\n",
       "        vertical-align: middle;\n",
       "    }\n",
       "\n",
       "    .dataframe tbody tr th {\n",
       "        vertical-align: top;\n",
       "    }\n",
       "\n",
       "    .dataframe thead th {\n",
       "        text-align: right;\n",
       "    }\n",
       "</style>\n",
       "<table border=\"1\" class=\"dataframe\">\n",
       "  <thead>\n",
       "    <tr style=\"text-align: right;\">\n",
       "      <th></th>\n",
       "      <th>img_path</th>\n",
       "      <th>class</th>\n",
       "    </tr>\n",
       "  </thead>\n",
       "  <tbody>\n",
       "    <tr>\n",
       "      <th>0</th>\n",
       "      <td>mdb293.pgm.png</td>\n",
       "      <td>fatty</td>\n",
       "    </tr>\n",
       "    <tr>\n",
       "      <th>1</th>\n",
       "      <td>mdb297.pgm.png</td>\n",
       "      <td>fatty</td>\n",
       "    </tr>\n",
       "    <tr>\n",
       "      <th>2</th>\n",
       "      <td>mdb299.pgm.png</td>\n",
       "      <td>fatty</td>\n",
       "    </tr>\n",
       "    <tr>\n",
       "      <th>3</th>\n",
       "      <td>mdb315.pgm.png</td>\n",
       "      <td>dense</td>\n",
       "    </tr>\n",
       "    <tr>\n",
       "      <th>4</th>\n",
       "      <td>mdb317.pgm.png</td>\n",
       "      <td>dense</td>\n",
       "    </tr>\n",
       "  </tbody>\n",
       "</table>\n",
       "</div>"
      ],
      "text/plain": [
       "         img_path  class\n",
       "0  mdb293.pgm.png  fatty\n",
       "1  mdb297.pgm.png  fatty\n",
       "2  mdb299.pgm.png  fatty\n",
       "3  mdb315.pgm.png  dense\n",
       "4  mdb317.pgm.png  dense"
      ]
     },
     "execution_count": 3,
     "metadata": {},
     "output_type": "execute_result"
    }
   ],
   "source": [
    "valid_df.head()"
   ]
  },
  {
   "cell_type": "code",
   "execution_count": 4,
   "id": "e954dc27",
   "metadata": {},
   "outputs": [],
   "source": [
    "# We get the image size from the input layer data of VGG16 Architecture.\n",
    "IMG_SIZE = (224, 224)"
   ]
  },
  {
   "cell_type": "code",
   "execution_count": 5,
   "id": "32f65319",
   "metadata": {},
   "outputs": [
    {
     "name": "stdout",
     "output_type": "stream",
     "text": [
      "Found 20 validated image filenames belonging to 2 classes.\n"
     ]
    }
   ],
   "source": [
    "train_idg = ImageDataGenerator(\n",
    "    rescale = 1./255,\n",
    "    horizontal_flip = True,\n",
    "    vertical_flip = False,\n",
    "    height_shift_range = 0.1,\n",
    "    width_shift_range = 0.1,\n",
    "    shear_range = 0.1,\n",
    "    rotation_range = 20,\n",
    "    zoom_range = 0.1\n",
    ")\n",
    "\n",
    "train_gen = train_idg.flow_from_dataframe(\n",
    "    dataframe = train_df,\n",
    "    x_col = 'img_path',\n",
    "    y_col = 'class',\n",
    "    class_mode = 'binary',\n",
    "    batch_size = 3,\n",
    "    target_size = IMG_SIZE\n",
    ")"
   ]
  },
  {
   "cell_type": "code",
   "execution_count": 6,
   "id": "11ded4f7",
   "metadata": {},
   "outputs": [
    {
     "name": "stdout",
     "output_type": "stream",
     "text": [
      "Found 6 validated image filenames belonging to 2 classes.\n"
     ]
    }
   ],
   "source": [
    "val_idg = ImageDataGenerator(\n",
    "    rescale = 1./255.0\n",
    ")\n",
    "\n",
    "val_gen = val_idg.flow_from_dataframe(\n",
    "    dataframe = valid_df,\n",
    "    x_col = 'img_path',\n",
    "    y_col = 'class',\n",
    "    class_mode = 'binary',\n",
    "    batch_size = 3,\n",
    "    target_size = IMG_SIZE\n",
    ")"
   ]
  },
  {
   "cell_type": "code",
   "execution_count": 7,
   "id": "b84b92ab",
   "metadata": {},
   "outputs": [],
   "source": [
    "# Pull a single large batch of random validation data for testing after each epoch\n",
    "testx, testy = val_gen.next()"
   ]
  },
  {
   "cell_type": "code",
   "execution_count": 8,
   "id": "18740ebc",
   "metadata": {},
   "outputs": [
    {
     "data": {
      "text/plain": [
       "(3, 224, 224, 3)"
      ]
     },
     "execution_count": 8,
     "metadata": {},
     "output_type": "execute_result"
    }
   ],
   "source": [
    "testx.shape"
   ]
  },
  {
   "cell_type": "markdown",
   "id": "0bfac30a",
   "metadata": {},
   "source": [
    "## Model building & Fine Tuning."
   ]
  },
  {
   "cell_type": "markdown",
   "id": "650dd4f1",
   "metadata": {},
   "source": [
    "#### 1.Freeze all layers except for the final convolutional layer of VGG16."
   ]
  },
  {
   "cell_type": "code",
   "execution_count": 9,
   "id": "dbf968d1",
   "metadata": {
    "scrolled": true
   },
   "outputs": [
    {
     "name": "stdout",
     "output_type": "stream",
     "text": [
      "Model: \"vgg16\"\n",
      "_________________________________________________________________\n",
      " Layer (type)                Output Shape              Param #   \n",
      "=================================================================\n",
      " input_1 (InputLayer)        [(None, 224, 224, 3)]     0         \n",
      "                                                                 \n",
      " block1_conv1 (Conv2D)       (None, 224, 224, 64)      1792      \n",
      "                                                                 \n",
      " block1_conv2 (Conv2D)       (None, 224, 224, 64)      36928     \n",
      "                                                                 \n",
      " block1_pool (MaxPooling2D)  (None, 112, 112, 64)      0         \n",
      "                                                                 \n",
      " block2_conv1 (Conv2D)       (None, 112, 112, 128)     73856     \n",
      "                                                                 \n",
      " block2_conv2 (Conv2D)       (None, 112, 112, 128)     147584    \n",
      "                                                                 \n",
      " block2_pool (MaxPooling2D)  (None, 56, 56, 128)       0         \n",
      "                                                                 \n",
      " block3_conv1 (Conv2D)       (None, 56, 56, 256)       295168    \n",
      "                                                                 \n",
      " block3_conv2 (Conv2D)       (None, 56, 56, 256)       590080    \n",
      "                                                                 \n",
      " block3_conv3 (Conv2D)       (None, 56, 56, 256)       590080    \n",
      "                                                                 \n",
      " block3_pool (MaxPooling2D)  (None, 28, 28, 256)       0         \n",
      "                                                                 \n",
      " block4_conv1 (Conv2D)       (None, 28, 28, 512)       1180160   \n",
      "                                                                 \n",
      " block4_conv2 (Conv2D)       (None, 28, 28, 512)       2359808   \n",
      "                                                                 \n",
      " block4_conv3 (Conv2D)       (None, 28, 28, 512)       2359808   \n",
      "                                                                 \n",
      " block4_pool (MaxPooling2D)  (None, 14, 14, 512)       0         \n",
      "                                                                 \n",
      " block5_conv1 (Conv2D)       (None, 14, 14, 512)       2359808   \n",
      "                                                                 \n",
      " block5_conv2 (Conv2D)       (None, 14, 14, 512)       2359808   \n",
      "                                                                 \n",
      " block5_conv3 (Conv2D)       (None, 14, 14, 512)       2359808   \n",
      "                                                                 \n",
      " block5_pool (MaxPooling2D)  (None, 7, 7, 512)         0         \n",
      "                                                                 \n",
      " flatten (Flatten)           (None, 25088)             0         \n",
      "                                                                 \n",
      " fc1 (Dense)                 (None, 4096)              102764544 \n",
      "                                                                 \n",
      " fc2 (Dense)                 (None, 4096)              16781312  \n",
      "                                                                 \n",
      " predictions (Dense)         (None, 1000)              4097000   \n",
      "                                                                 \n",
      "=================================================================\n",
      "Total params: 138,357,544\n",
      "Trainable params: 138,357,544\n",
      "Non-trainable params: 0\n",
      "_________________________________________________________________\n"
     ]
    }
   ],
   "source": [
    "model = VGG16()\n",
    "model.summary()"
   ]
  },
  {
   "cell_type": "code",
   "execution_count": 10,
   "id": "3d8d8e24",
   "metadata": {},
   "outputs": [],
   "source": [
    "# transfer layer is the last layer before the flatten layer\n",
    "transfer_layer = model.get_layer('block5_pool')\n",
    "vgg_model = Model(inputs=model.input,\n",
    "                   outputs=transfer_layer.output)"
   ]
  },
  {
   "cell_type": "code",
   "execution_count": 11,
   "id": "78c559bb",
   "metadata": {},
   "outputs": [],
   "source": [
    "for layer in vgg_model.layers[0:17]:\n",
    "    layer.trainable = False"
   ]
  },
  {
   "cell_type": "code",
   "execution_count": 12,
   "id": "866dfa29",
   "metadata": {},
   "outputs": [
    {
     "name": "stdout",
     "output_type": "stream",
     "text": [
      "input_1 False\n",
      "block1_conv1 False\n",
      "block1_conv2 False\n",
      "block1_pool False\n",
      "block2_conv1 False\n",
      "block2_conv2 False\n",
      "block2_pool False\n",
      "block3_conv1 False\n",
      "block3_conv2 False\n",
      "block3_conv3 False\n",
      "block3_pool False\n",
      "block4_conv1 False\n",
      "block4_conv2 False\n",
      "block4_conv3 False\n",
      "block4_pool False\n",
      "block5_conv1 False\n",
      "block5_conv2 False\n",
      "block5_conv3 True\n",
      "block5_pool True\n"
     ]
    }
   ],
   "source": [
    "for layer in vgg_model.layers:\n",
    "    print(layer.name, layer.trainable)"
   ]
  },
  {
   "cell_type": "code",
   "execution_count": 13,
   "id": "310bf988",
   "metadata": {},
   "outputs": [],
   "source": [
    "new_model = Sequential()\n",
    "# The pre-trained architecture\n",
    "new_model.add(vgg_model)\n",
    "# Flatten the output of the VGG16 model because it is from a convolutional layer.\n",
    "new_model.add(Flatten())\n",
    "#The output layer\n",
    "new_model.add(Dense(1, activation = 'sigmoid'))"
   ]
  },
  {
   "cell_type": "code",
   "execution_count": 14,
   "id": "39f3793c",
   "metadata": {},
   "outputs": [],
   "source": [
    "new_model.compile(\n",
    "    optimizer= Adam(learning_rate= 0.0001),\n",
    "    loss='binary_crossentropy',\n",
    "    metrics=['binary_accuracy'])"
   ]
  },
  {
   "cell_type": "code",
   "execution_count": 15,
   "id": "91cd2bfc",
   "metadata": {},
   "outputs": [
    {
     "name": "stdout",
     "output_type": "stream",
     "text": [
      "Epoch 1/20\n",
      "7/7 [==============================] - 3s 373ms/step - loss: 0.7186 - binary_accuracy: 0.4000 - val_loss: 0.4984 - val_binary_accuracy: 1.0000\n",
      "Epoch 2/20\n",
      "7/7 [==============================] - 2s 342ms/step - loss: 0.6723 - binary_accuracy: 0.5500 - val_loss: 0.3984 - val_binary_accuracy: 1.0000\n",
      "Epoch 3/20\n",
      "7/7 [==============================] - 2s 344ms/step - loss: 0.5103 - binary_accuracy: 0.8000 - val_loss: 0.3777 - val_binary_accuracy: 1.0000\n",
      "Epoch 4/20\n",
      "7/7 [==============================] - 3s 423ms/step - loss: 0.4189 - binary_accuracy: 0.8500 - val_loss: 0.3537 - val_binary_accuracy: 1.0000\n",
      "Epoch 5/20\n",
      "7/7 [==============================] - 4s 552ms/step - loss: 0.3646 - binary_accuracy: 0.9500 - val_loss: 0.2752 - val_binary_accuracy: 1.0000\n",
      "Epoch 6/20\n",
      "7/7 [==============================] - 4s 530ms/step - loss: 0.2750 - binary_accuracy: 0.9500 - val_loss: 0.2196 - val_binary_accuracy: 1.0000\n",
      "Epoch 7/20\n",
      "7/7 [==============================] - 4s 518ms/step - loss: 0.2188 - binary_accuracy: 0.9500 - val_loss: 0.2079 - val_binary_accuracy: 1.0000\n",
      "Epoch 8/20\n",
      "7/7 [==============================] - 4s 528ms/step - loss: 0.2748 - binary_accuracy: 0.8500 - val_loss: 0.1598 - val_binary_accuracy: 1.0000\n",
      "Epoch 9/20\n",
      "7/7 [==============================] - 4s 532ms/step - loss: 0.2121 - binary_accuracy: 0.9000 - val_loss: 0.1216 - val_binary_accuracy: 1.0000\n",
      "Epoch 10/20\n",
      "7/7 [==============================] - 4s 527ms/step - loss: 0.1894 - binary_accuracy: 0.9500 - val_loss: 0.0487 - val_binary_accuracy: 1.0000\n",
      "Epoch 11/20\n",
      "7/7 [==============================] - 4s 516ms/step - loss: 0.1919 - binary_accuracy: 0.9000 - val_loss: 0.0484 - val_binary_accuracy: 1.0000\n",
      "Epoch 12/20\n",
      "7/7 [==============================] - 4s 525ms/step - loss: 0.1531 - binary_accuracy: 1.0000 - val_loss: 0.0317 - val_binary_accuracy: 1.0000\n",
      "Epoch 13/20\n",
      "7/7 [==============================] - 4s 533ms/step - loss: 0.1289 - binary_accuracy: 1.0000 - val_loss: 0.0351 - val_binary_accuracy: 1.0000\n",
      "Epoch 14/20\n",
      "7/7 [==============================] - 4s 527ms/step - loss: 0.1065 - binary_accuracy: 1.0000 - val_loss: 0.0243 - val_binary_accuracy: 1.0000\n",
      "Epoch 15/20\n",
      "7/7 [==============================] - 4s 524ms/step - loss: 0.1643 - binary_accuracy: 0.9500 - val_loss: 0.0180 - val_binary_accuracy: 1.0000\n",
      "Epoch 16/20\n",
      "7/7 [==============================] - 4s 502ms/step - loss: 0.1265 - binary_accuracy: 0.9500 - val_loss: 0.0417 - val_binary_accuracy: 1.0000\n",
      "Epoch 17/20\n",
      "7/7 [==============================] - 4s 502ms/step - loss: 0.0684 - binary_accuracy: 1.0000 - val_loss: 0.0484 - val_binary_accuracy: 1.0000\n",
      "Epoch 18/20\n",
      "7/7 [==============================] - 3s 487ms/step - loss: 0.0671 - binary_accuracy: 1.0000 - val_loss: 0.0530 - val_binary_accuracy: 1.0000\n",
      "Epoch 19/20\n",
      "7/7 [==============================] - 3s 481ms/step - loss: 0.1153 - binary_accuracy: 0.9500 - val_loss: 0.0374 - val_binary_accuracy: 1.0000\n",
      "Epoch 20/20\n",
      "7/7 [==============================] - 3s 491ms/step - loss: 0.1071 - binary_accuracy: 0.9500 - val_loss: 0.0164 - val_binary_accuracy: 1.0000\n"
     ]
    },
    {
     "data": {
      "text/plain": [
       "<keras.callbacks.History at 0x23a995d3910>"
      ]
     },
     "execution_count": 15,
     "metadata": {},
     "output_type": "execute_result"
    }
   ],
   "source": [
    "new_model.fit(train_gen,\n",
    "              validation_data = (testx, testy), \n",
    "              epochs = 20)"
   ]
  },
  {
   "cell_type": "markdown",
   "id": "49e2a390",
   "metadata": {},
   "source": [
    "#### 2.Freeze all layers except for the final convolutional layer of VGG16 + adding a few more dense layers:"
   ]
  },
  {
   "cell_type": "code",
   "execution_count": 16,
   "id": "40af471a",
   "metadata": {},
   "outputs": [],
   "source": [
    "new_model = Sequential()\n",
    "new_model.add(vgg_model)\n",
    "new_model.add(Flatten())\n",
    "\n",
    "new_model.add(Dense(1024, activation = 'relu'))\n",
    "new_model.add(Dense(512, activation = 'relu'))\n",
    "new_model.add(Dense(1, activation = 'sigmoid'))"
   ]
  },
  {
   "cell_type": "code",
   "execution_count": 17,
   "id": "5198cb00",
   "metadata": {},
   "outputs": [],
   "source": [
    "new_model.compile(\n",
    "    optimizer = Adam(learning_rate = 0.0001),\n",
    "    loss = \"binary_crossentropy\",\n",
    "    metrics = [\"binary_accuracy\"]\n",
    ")"
   ]
  },
  {
   "cell_type": "code",
   "execution_count": 18,
   "id": "e31bb860",
   "metadata": {},
   "outputs": [
    {
     "name": "stdout",
     "output_type": "stream",
     "text": [
      "Epoch 1/5\n",
      "7/7 [==============================] - 4s 458ms/step - loss: 0.8531 - binary_accuracy: 0.6000 - val_loss: 0.2194 - val_binary_accuracy: 1.0000\n",
      "Epoch 2/5\n",
      "7/7 [==============================] - 3s 435ms/step - loss: 0.3908 - binary_accuracy: 0.8500 - val_loss: 0.1629 - val_binary_accuracy: 1.0000\n",
      "Epoch 3/5\n",
      "7/7 [==============================] - 3s 457ms/step - loss: 0.2712 - binary_accuracy: 0.9000 - val_loss: 0.0477 - val_binary_accuracy: 1.0000\n",
      "Epoch 4/5\n",
      "7/7 [==============================] - 4s 518ms/step - loss: 0.2124 - binary_accuracy: 0.9000 - val_loss: 0.0510 - val_binary_accuracy: 1.0000\n",
      "Epoch 5/5\n",
      "7/7 [==============================] - 4s 604ms/step - loss: 0.1218 - binary_accuracy: 0.9500 - val_loss: 0.0035 - val_binary_accuracy: 1.0000\n"
     ]
    },
    {
     "data": {
      "text/plain": [
       "<keras.callbacks.History at 0x23aa331cfa0>"
      ]
     },
     "execution_count": 18,
     "metadata": {},
     "output_type": "execute_result"
    }
   ],
   "source": [
    "new_model.fit(\n",
    "    train_gen,\n",
    "    validation_data = (testx,testy),\n",
    "    epochs = 5\n",
    ")"
   ]
  },
  {
   "cell_type": "markdown",
   "id": "2f4a9157",
   "metadata": {},
   "source": [
    "#### 3.Freeze all layers except for the final convolutional layer of VGG16 + adding a few more dense layers and droupout layers:"
   ]
  },
  {
   "cell_type": "code",
   "execution_count": 19,
   "id": "eafb9799",
   "metadata": {},
   "outputs": [],
   "source": [
    "new_model = Sequential()\n",
    "new_model.add(vgg_model)\n",
    "new_model.add(Flatten())\n",
    "\n",
    "new_model.add(Dense(1024, activation = 'relu'))\n",
    "new_model.add(Dropout(0.5))\n",
    "new_model.add(Dense(512, activation = 'relu'))\n",
    "new_model.add(Dropout(0.5))\n",
    "new_model.add(Dense(256, activation = 'relu'))\n",
    "new_model.add(Dense(1, activation = 'sigmoid'))"
   ]
  },
  {
   "cell_type": "code",
   "execution_count": 20,
   "id": "ad267263",
   "metadata": {},
   "outputs": [],
   "source": [
    "new_model.compile(\n",
    "    optimizer = Adam(learning_rate = 0.0001),\n",
    "    loss = \"binary_crossentropy\",\n",
    "    metrics = [\"binary_accuracy\"]\n",
    ")"
   ]
  },
  {
   "cell_type": "code",
   "execution_count": 21,
   "id": "58bb2c73",
   "metadata": {},
   "outputs": [
    {
     "name": "stdout",
     "output_type": "stream",
     "text": [
      "Epoch 1/20\n",
      "7/7 [==============================] - 4s 460ms/step - loss: 0.8339 - binary_accuracy: 0.5000 - val_loss: 0.3689 - val_binary_accuracy: 1.0000\n",
      "Epoch 2/20\n",
      "7/7 [==============================] - 3s 442ms/step - loss: 0.4766 - binary_accuracy: 0.6500 - val_loss: 0.3969 - val_binary_accuracy: 1.0000\n",
      "Epoch 3/20\n",
      "7/7 [==============================] - 3s 451ms/step - loss: 0.7421 - binary_accuracy: 0.6500 - val_loss: 0.3013 - val_binary_accuracy: 1.0000\n",
      "Epoch 4/20\n",
      "7/7 [==============================] - 4s 518ms/step - loss: 0.8435 - binary_accuracy: 0.6500 - val_loss: 0.0967 - val_binary_accuracy: 1.0000\n",
      "Epoch 5/20\n",
      "7/7 [==============================] - 5s 644ms/step - loss: 0.4804 - binary_accuracy: 0.7500 - val_loss: 0.1070 - val_binary_accuracy: 1.0000\n",
      "Epoch 6/20\n",
      "7/7 [==============================] - 4s 630ms/step - loss: 0.3663 - binary_accuracy: 0.8500 - val_loss: 0.0548 - val_binary_accuracy: 1.0000\n",
      "Epoch 7/20\n",
      "7/7 [==============================] - 4s 598ms/step - loss: 0.3077 - binary_accuracy: 0.9000 - val_loss: 0.0295 - val_binary_accuracy: 1.0000\n",
      "Epoch 8/20\n",
      "7/7 [==============================] - 4s 610ms/step - loss: 0.3119 - binary_accuracy: 0.9000 - val_loss: 0.0177 - val_binary_accuracy: 1.0000\n",
      "Epoch 9/20\n",
      "7/7 [==============================] - 4s 608ms/step - loss: 0.4404 - binary_accuracy: 0.7500 - val_loss: 0.0348 - val_binary_accuracy: 1.0000\n",
      "Epoch 10/20\n",
      "7/7 [==============================] - 4s 588ms/step - loss: 0.2308 - binary_accuracy: 0.9000 - val_loss: 0.0463 - val_binary_accuracy: 1.0000\n",
      "Epoch 11/20\n",
      "7/7 [==============================] - 4s 605ms/step - loss: 0.1477 - binary_accuracy: 0.9000 - val_loss: 0.0284 - val_binary_accuracy: 1.0000\n",
      "Epoch 12/20\n",
      "7/7 [==============================] - 4s 601ms/step - loss: 0.0865 - binary_accuracy: 1.0000 - val_loss: 0.0064 - val_binary_accuracy: 1.0000\n",
      "Epoch 13/20\n",
      "7/7 [==============================] - 4s 588ms/step - loss: 0.1157 - binary_accuracy: 0.9500 - val_loss: 0.0058 - val_binary_accuracy: 1.0000\n",
      "Epoch 14/20\n",
      "7/7 [==============================] - 4s 612ms/step - loss: 0.0507 - binary_accuracy: 1.0000 - val_loss: 0.0066 - val_binary_accuracy: 1.0000\n",
      "Epoch 15/20\n",
      "7/7 [==============================] - 4s 584ms/step - loss: 0.1181 - binary_accuracy: 0.9000 - val_loss: 0.0036 - val_binary_accuracy: 1.0000\n",
      "Epoch 16/20\n",
      "7/7 [==============================] - 4s 628ms/step - loss: 0.0869 - binary_accuracy: 0.9500 - val_loss: 0.0019 - val_binary_accuracy: 1.0000\n",
      "Epoch 17/20\n",
      "7/7 [==============================] - 4s 612ms/step - loss: 0.0315 - binary_accuracy: 1.0000 - val_loss: 0.0117 - val_binary_accuracy: 1.0000\n",
      "Epoch 18/20\n",
      "7/7 [==============================] - 4s 595ms/step - loss: 0.0824 - binary_accuracy: 0.9500 - val_loss: 0.0112 - val_binary_accuracy: 1.0000\n",
      "Epoch 19/20\n",
      "7/7 [==============================] - 4s 600ms/step - loss: 0.0172 - binary_accuracy: 1.0000 - val_loss: 0.0048 - val_binary_accuracy: 1.0000\n",
      "Epoch 20/20\n",
      "7/7 [==============================] - 4s 637ms/step - loss: 0.1419 - binary_accuracy: 0.9500 - val_loss: 0.0025 - val_binary_accuracy: 1.0000\n"
     ]
    }
   ],
   "source": [
    "history = new_model.fit(\n",
    "    train_gen,\n",
    "    validation_data = (testx,testy),\n",
    "    epochs = 20\n",
    ")"
   ]
  },
  {
   "cell_type": "code",
   "execution_count": 22,
   "id": "6666b9c3",
   "metadata": {},
   "outputs": [],
   "source": [
    "def plot_loss(history):\n",
    "    plt.plot( history.history[\"loss\"], label=\"train_loss\")\n",
    "    plt.plot(history.history[\"val_loss\"], label=\"val_loss\")\n",
    "    plt.title(\"Training Loss on Dataset\")\n",
    "    plt.xlabel(\"Epoch \")\n",
    "    plt.ylabel(\"Loss\")\n",
    "    plt.legend()"
   ]
  },
  {
   "cell_type": "code",
   "execution_count": 23,
   "id": "ffc1deb1",
   "metadata": {},
   "outputs": [
    {
     "data": {
      "image/png": "[encoded data removed]",
      "text/plain": [
       "<Figure size 432x288 with 1 Axes>"
      ]
     },
     "metadata": {
      "needs_background": "light"
     },
     "output_type": "display_data"
    }
   ],
   "source": [
    "plot_loss(history)"
   ]
  },
  {
   "cell_type": "code",
   "execution_count": 24,
   "id": "3ef7e82d",
   "metadata": {},
   "outputs": [],
   "source": [
    "def plot_acc(history):\n",
    "    plt.plot( history.history[\"binary_accuracy\"], label=\"train_acc\")\n",
    "    plt.plot(history.history[\"val_binary_accuracy\"], label=\"val_acc\")\n",
    "    plt.title(\"Training Accuracy\")\n",
    "    plt.xlabel(\"Epoch \")\n",
    "    plt.ylabel(\"Accuracy\")\n",
    "    plt.legend()\n",
    "    "
   ]
  },
  {
   "cell_type": "code",
   "execution_count": 25,
   "id": "b4082344",
   "metadata": {},
   "outputs": [
    {
     "data": {
      "image/png": "[encoded data removed]",
      "text/plain": [
       "<Figure size 432x288 with 1 Axes>"
      ]
     },
     "metadata": {
      "needs_background": "light"
     },
     "output_type": "display_data"
    }
   ],
   "source": [
    "plot_acc(history)"
   ]
  }
 ],
 "metadata": {
  "kernelspec": {
   "display_name": "Python 3 (ipykernel)",
   "language": "python",
   "name": "python3"
  },
  "language_info": {
   "codemirror_mode": {
    "name": "ipython",
    "version": 3
   },
   "file_extension": ".py",
   "mimetype": "text/x-python",
   "name": "python",
   "nbconvert_exporter": "python",
   "pygments_lexer": "ipython3",
   "version": "3.9.12"
  }
 },
 "nbformat": 4,
 "nbformat_minor": 5
}
